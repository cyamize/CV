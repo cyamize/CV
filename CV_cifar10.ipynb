{
  "nbformat": 4,
  "nbformat_minor": 0,
  "metadata": {
    "colab": {
      "name": "CV_cifar10.ipynb",
      "provenance": [],
      "include_colab_link": true
    },
    "kernelspec": {
      "name": "python3",
      "display_name": "Python 3"
    },
    "language_info": {
      "name": "python"
    },
    "accelerator": "GPU"
  },
  "cells": [
    {
      "cell_type": "markdown",
      "metadata": {
        "id": "view-in-github",
        "colab_type": "text"
      },
      "source": [
        "<a href=\"https://colab.research.google.com/github/cyamize/CV/blob/main/CV_cifar10.ipynb\" target=\"_parent\"><img src=\"https://colab.research.google.com/assets/colab-badge.svg\" alt=\"Open In Colab\"/></a>"
      ]
    },
    {
      "cell_type": "code",
      "metadata": {
        "id": "H2bBfxhZW2Wg"
      },
      "source": [
        "import warnings\n",
        "warnings.filterwarnings('ignore')"
      ],
      "execution_count": null,
      "outputs": []
    },
    {
      "cell_type": "code",
      "metadata": {
        "id": "dg8KcvtYW4Gv"
      },
      "source": [
        "from keras.datasets import cifar10\n",
        "from tensorflow.keras.utils import to_categorical\n"
      ],
      "execution_count": null,
      "outputs": []
    },
    {
      "cell_type": "code",
      "metadata": {
        "colab": {
          "base_uri": "https://localhost:8080/"
        },
        "id": "lZ6rPJPTW6MO",
        "outputId": "9a6f4b00-f26e-4bbf-a969-173f900669f7"
      },
      "source": [
        "# data분할 (computer vision, data split: images, labels)\n",
        "(train_images, train_labels), (test_images, test_labels) = cifar10.load_data()"
      ],
      "execution_count": null,
      "outputs": [
        {
          "output_type": "stream",
          "text": [
            "Downloading data from https://www.cs.toronto.edu/~kriz/cifar-10-python.tar.gz\n",
            "170500096/170498071 [==============================] - 4s 0us/step\n",
            "170508288/170498071 [==============================] - 4s 0us/step\n"
          ],
          "name": "stdout"
        }
      ]
    },
    {
      "cell_type": "code",
      "metadata": {
        "id": "x5kir2oiXJMK"
      },
      "source": [
        "# 정규화\n",
        "\n",
        "train_images = train_images.astype('float32') / 255\n",
        "test_images = test_images.astype('float32') / 255"
      ],
      "execution_count": null,
      "outputs": []
    },
    {
      "cell_type": "code",
      "metadata": {
        "id": "NrpgpLZCXXKN"
      },
      "source": [
        "train_labels = to_categorical(train_labels)\n",
        "test_labels = to_categorical(test_labels)"
      ],
      "execution_count": null,
      "outputs": []
    },
    {
      "cell_type": "code",
      "metadata": {
        "id": "RTG17pcuXeZB"
      },
      "source": [
        "# 모델링\n",
        "\n",
        "from keras.models import Sequential\n",
        "from keras.layers import Conv2D, Flatten, MaxPooling2D, Dense, Dropout\n",
        "from keras.layers.normalization import BatchNormalization"
      ],
      "execution_count": null,
      "outputs": []
    },
    {
      "cell_type": "code",
      "metadata": {
        "id": "wAcaJ_k_YNXT"
      },
      "source": [
        "model = Sequential()\n",
        "\n",
        "model.add(Conv2D(32, kernel_size=(3,3), padding='same', input_shape=(32,32,3), activation='relu'))\n",
        "model.add(BatchNormalization())\n",
        "\n",
        "model.add(Conv2D(32, kernel_size=(3,3), padding='same', activation='relu'))\n",
        "model.add(BatchNormalization())\n",
        "\n",
        "model.add(MaxPooling2D(pool_size=2)) # 반으로 나눈다\n",
        "\n",
        "model.add(Dropout(0.2))"
      ],
      "execution_count": null,
      "outputs": []
    },
    {
      "cell_type": "code",
      "metadata": {
        "id": "_x-USTm2ZuC6"
      },
      "source": [
        "model.add(Conv2D(64, kernel_size=(3,3), padding='same', activation='relu'))\n",
        "model.add(BatchNormalization())\n",
        "\n",
        "model.add(Conv2D(64, kernel_size=(3,3), padding='same', activation='relu'))\n",
        "model.add(BatchNormalization())\n",
        "\n",
        "model.add(MaxPooling2D(pool_size=2)) # 반으로 나눈다\n",
        "\n",
        "model.add(Dropout(0.3))"
      ],
      "execution_count": null,
      "outputs": []
    },
    {
      "cell_type": "code",
      "metadata": {
        "id": "_H_i-o47Z1zr"
      },
      "source": [
        "model.add(Conv2D(128, kernel_size=(3,3), padding='same', activation='relu'))\n",
        "model.add(BatchNormalization())\n",
        "\n",
        "model.add(Conv2D(128, kernel_size=(3,3), padding='same', activation='relu'))\n",
        "model.add(BatchNormalization())\n",
        "\n",
        "model.add(MaxPooling2D(pool_size=2)) # 반으로 나눈다\n",
        "\n",
        "model.add(Dropout(0.4))"
      ],
      "execution_count": null,
      "outputs": []
    },
    {
      "cell_type": "code",
      "metadata": {
        "id": "Z1_LgLc7aBKR"
      },
      "source": [
        "model.add(Flatten())"
      ],
      "execution_count": null,
      "outputs": []
    },
    {
      "cell_type": "code",
      "metadata": {
        "id": "CBQulVfraD49"
      },
      "source": [
        "model.add(Dense(512,activation='relu'))"
      ],
      "execution_count": null,
      "outputs": []
    },
    {
      "cell_type": "code",
      "metadata": {
        "id": "7VsituKaaHp1"
      },
      "source": [
        "# 10개로 다중분류: softmax()\n",
        "\n",
        "model.add(Dense(10, activation='softmax'))"
      ],
      "execution_count": null,
      "outputs": []
    },
    {
      "cell_type": "code",
      "metadata": {
        "id": "DdCMvIMbaPYh"
      },
      "source": [
        "from keras.optimizers import Adam\n",
        "optimizer = Adam(lr=0.01)"
      ],
      "execution_count": null,
      "outputs": []
    },
    {
      "cell_type": "code",
      "metadata": {
        "id": "waajQeypadJW"
      },
      "source": [
        "# 학습실행 환경 설정 compile\n",
        "\n",
        "model.compile(optimizer=optimizer, loss= 'categorical_crossentropy', metrics =['accuracy'])"
      ],
      "execution_count": null,
      "outputs": []
    },
    {
      "cell_type": "code",
      "metadata": {
        "colab": {
          "base_uri": "https://localhost:8080/"
        },
        "id": "0vTOLN1Yatuu",
        "outputId": "edfca826-d6f8-407a-a3e5-b021359dafb7"
      },
      "source": [
        "model.summary()"
      ],
      "execution_count": null,
      "outputs": [
        {
          "output_type": "stream",
          "text": [
            "Model: \"sequential\"\n",
            "_________________________________________________________________\n",
            "Layer (type)                 Output Shape              Param #   \n",
            "=================================================================\n",
            "conv2d (Conv2D)              (None, 32, 32, 32)        896       \n",
            "_________________________________________________________________\n",
            "batch_normalization (BatchNo (None, 32, 32, 32)        128       \n",
            "_________________________________________________________________\n",
            "conv2d_1 (Conv2D)            (None, 32, 32, 32)        9248      \n",
            "_________________________________________________________________\n",
            "batch_normalization_1 (Batch (None, 32, 32, 32)        128       \n",
            "_________________________________________________________________\n",
            "max_pooling2d (MaxPooling2D) (None, 16, 16, 32)        0         \n",
            "_________________________________________________________________\n",
            "dropout (Dropout)            (None, 16, 16, 32)        0         \n",
            "_________________________________________________________________\n",
            "conv2d_2 (Conv2D)            (None, 16, 16, 64)        18496     \n",
            "_________________________________________________________________\n",
            "batch_normalization_2 (Batch (None, 16, 16, 64)        256       \n",
            "_________________________________________________________________\n",
            "conv2d_3 (Conv2D)            (None, 16, 16, 64)        36928     \n",
            "_________________________________________________________________\n",
            "batch_normalization_3 (Batch (None, 16, 16, 64)        256       \n",
            "_________________________________________________________________\n",
            "max_pooling2d_1 (MaxPooling2 (None, 8, 8, 64)          0         \n",
            "_________________________________________________________________\n",
            "dropout_1 (Dropout)          (None, 8, 8, 64)          0         \n",
            "_________________________________________________________________\n",
            "conv2d_4 (Conv2D)            (None, 8, 8, 128)         73856     \n",
            "_________________________________________________________________\n",
            "batch_normalization_4 (Batch (None, 8, 8, 128)         512       \n",
            "_________________________________________________________________\n",
            "conv2d_5 (Conv2D)            (None, 8, 8, 128)         147584    \n",
            "_________________________________________________________________\n",
            "batch_normalization_5 (Batch (None, 8, 8, 128)         512       \n",
            "_________________________________________________________________\n",
            "max_pooling2d_2 (MaxPooling2 (None, 4, 4, 128)         0         \n",
            "_________________________________________________________________\n",
            "dropout_2 (Dropout)          (None, 4, 4, 128)         0         \n",
            "_________________________________________________________________\n",
            "flatten (Flatten)            (None, 2048)              0         \n",
            "_________________________________________________________________\n",
            "dense (Dense)                (None, 512)               1049088   \n",
            "_________________________________________________________________\n",
            "dense_1 (Dense)              (None, 10)                5130      \n",
            "=================================================================\n",
            "Total params: 1,343,018\n",
            "Trainable params: 1,342,122\n",
            "Non-trainable params: 896\n",
            "_________________________________________________________________\n"
          ],
          "name": "stdout"
        }
      ]
    },
    {
      "cell_type": "code",
      "metadata": {
        "colab": {
          "base_uri": "https://localhost:8080/"
        },
        "id": "4uM3QCsrawBs",
        "outputId": "bd0fe7fb-caa8-44ef-c50f-6b9ee2e68a1e"
      },
      "source": [
        "4*4*128"
      ],
      "execution_count": null,
      "outputs": [
        {
          "output_type": "execute_result",
          "data": {
            "text/plain": [
              "2048"
            ]
          },
          "metadata": {
            "tags": []
          },
          "execution_count": 16
        }
      ]
    },
    {
      "cell_type": "code",
      "metadata": {
        "colab": {
          "base_uri": "https://localhost:8080/"
        },
        "id": "A0qy3zJTbGm8",
        "outputId": "407878a7-579f-4d39-a19b-84b8657cc788"
      },
      "source": [
        "# 모델 훈련\n",
        "\n",
        "model.fit(train_images, train_labels, epochs=20, batch_size=200)"
      ],
      "execution_count": null,
      "outputs": [
        {
          "output_type": "stream",
          "text": [
            "Epoch 1/20\n",
            "250/250 [==============================] - 52s 21ms/step - loss: 6.3078 - accuracy: 0.2643\n",
            "Epoch 2/20\n",
            "250/250 [==============================] - 5s 21ms/step - loss: 1.4799 - accuracy: 0.4599\n",
            "Epoch 3/20\n",
            "250/250 [==============================] - 5s 21ms/step - loss: 1.2886 - accuracy: 0.5360\n",
            "Epoch 4/20\n",
            "250/250 [==============================] - 5s 21ms/step - loss: 1.1493 - accuracy: 0.5915\n",
            "Epoch 5/20\n",
            "250/250 [==============================] - 5s 21ms/step - loss: 0.9856 - accuracy: 0.6491\n",
            "Epoch 6/20\n",
            "250/250 [==============================] - 5s 21ms/step - loss: 0.8977 - accuracy: 0.6831\n",
            "Epoch 7/20\n",
            "250/250 [==============================] - 5s 21ms/step - loss: 0.8528 - accuracy: 0.7005\n",
            "Epoch 8/20\n",
            "250/250 [==============================] - 5s 21ms/step - loss: 0.8297 - accuracy: 0.7101\n",
            "Epoch 9/20\n",
            "250/250 [==============================] - 5s 22ms/step - loss: 0.7792 - accuracy: 0.7325\n",
            "Epoch 10/20\n",
            "250/250 [==============================] - 5s 22ms/step - loss: 0.7735 - accuracy: 0.7332\n",
            "Epoch 11/20\n",
            "250/250 [==============================] - 5s 22ms/step - loss: 0.6936 - accuracy: 0.7592\n",
            "Epoch 12/20\n",
            "250/250 [==============================] - 5s 22ms/step - loss: 0.6073 - accuracy: 0.7897\n",
            "Epoch 13/20\n",
            "250/250 [==============================] - 5s 22ms/step - loss: 0.5674 - accuracy: 0.8036\n",
            "Epoch 14/20\n",
            "250/250 [==============================] - 5s 22ms/step - loss: 0.5418 - accuracy: 0.8145\n",
            "Epoch 15/20\n",
            "250/250 [==============================] - 5s 22ms/step - loss: 0.5378 - accuracy: 0.8132\n",
            "Epoch 16/20\n",
            "250/250 [==============================] - 5s 21ms/step - loss: 0.5098 - accuracy: 0.8230\n",
            "Epoch 17/20\n",
            "250/250 [==============================] - 5s 21ms/step - loss: 0.4921 - accuracy: 0.8279\n",
            "Epoch 18/20\n",
            "250/250 [==============================] - 5s 21ms/step - loss: 0.4853 - accuracy: 0.8331\n",
            "Epoch 19/20\n",
            "250/250 [==============================] - 5s 22ms/step - loss: 0.4746 - accuracy: 0.8368\n",
            "Epoch 20/20\n",
            "250/250 [==============================] - 5s 21ms/step - loss: 0.4659 - accuracy: 0.8403\n"
          ],
          "name": "stdout"
        },
        {
          "output_type": "execute_result",
          "data": {
            "text/plain": [
              "<keras.callbacks.History at 0x7ff42e129690>"
            ]
          },
          "metadata": {
            "tags": []
          },
          "execution_count": 17
        }
      ]
    },
    {
      "cell_type": "code",
      "metadata": {
        "colab": {
          "base_uri": "https://localhost:8080/"
        },
        "id": "BIhal_QHbeiB",
        "outputId": "81398035-1dff-4fbc-8bd8-55e665433ace"
      },
      "source": [
        "# 모델 평가 (test dataset)\n",
        "\n",
        "test_loss, test_acc = model.evaluate(test_images, test_labels)"
      ],
      "execution_count": null,
      "outputs": [
        {
          "output_type": "stream",
          "text": [
            "313/313 [==============================] - 2s 4ms/step - loss: 0.6304 - accuracy: 0.7973\n"
          ],
          "name": "stdout"
        }
      ]
    },
    {
      "cell_type": "code",
      "metadata": {
        "colab": {
          "base_uri": "https://localhost:8080/"
        },
        "id": "wC-Ymwo7cCcR",
        "outputId": "354d8916-8fd1-4a0f-8277-9aafd3c8c645"
      },
      "source": [
        "print('test_acc:', test_acc)"
      ],
      "execution_count": null,
      "outputs": [
        {
          "output_type": "stream",
          "text": [
            "test_acc: 0.7972999811172485\n"
          ],
          "name": "stdout"
        }
      ]
    },
    {
      "cell_type": "code",
      "metadata": {
        "id": "Qpba00jncFop"
      },
      "source": [
        "# 모델 저장(save)\n",
        "\n",
        "import os\n",
        "\n",
        "if not os.path.exists('./model'):\n",
        "  os.mkdir('model')"
      ],
      "execution_count": null,
      "outputs": []
    },
    {
      "cell_type": "code",
      "metadata": {
        "id": "axnDpG1Mc4H_"
      },
      "source": [
        "model.save('model/model_cifar10.h5')"
      ],
      "execution_count": null,
      "outputs": []
    }
  ]
}